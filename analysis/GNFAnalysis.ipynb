{
 "cells": [
  {
   "cell_type": "code",
   "execution_count": 133,
   "metadata": {},
   "outputs": [],
   "source": [
    "import numpy as np\n",
    "import pandas as pd\n",
    "from matplotlib import pyplot as plt"
   ]
  },
  {
   "cell_type": "code",
   "execution_count": 235,
   "metadata": {},
   "outputs": [],
   "source": [
    "gnf_params = pd.read_csv(\"activeff_sysrad_v003_reload002_filament.gnf\", skiprows=1, nrows=1, delim_whitespace=True)"
   ]
  },
  {
   "cell_type": "code",
   "execution_count": 236,
   "metadata": {},
   "outputs": [],
   "source": [
    "box_params = pd.read_csv(\"activeff_sysrad_v003_reload002_filament.gnf\", skiprows=3, nrows=1, delim_whitespace=True)"
   ]
  },
  {
   "cell_type": "code",
   "execution_count": 237,
   "metadata": {},
   "outputs": [],
   "source": [
    "gnf_n = pd.read_csv(\"activeff_sysrad_v003_reload002_filament.gnf\",\n",
    "                    skiprows=5, \n",
    "                    delim_whitespace=True, index_col=0)"
   ]
  },
  {
   "cell_type": "code",
   "execution_count": 238,
   "metadata": {},
   "outputs": [],
   "source": [
    "gnf_n = gnf_n.sort_index(axis=1)\n",
    "boxes = [col for col in gnf_n.columns if '.' not in col]\n",
    "n_center = len([col for col in gnf_n.columns if col[:4] == 'box0'])\n",
    "gnf_n.columns = pd.MultiIndex.from_product([boxes, range(n_center)])"
   ]
  },
  {
   "cell_type": "code",
   "execution_count": 279,
   "metadata": {},
   "outputs": [
    {
     "data": {
      "text/plain": [
       "<matplotlib.legend.Legend at 0x7f7f83c18ca0>"
      ]
     },
     "execution_count": 279,
     "metadata": {},
     "output_type": "execute_result"
    },
    {
     "data": {
      "image/png": "[encoded data removed]",
      "text/plain": [
       "<Figure size 432x432 with 1 Axes>"
      ]
     },
     "metadata": {
      "needs_background": "light"
     },
     "output_type": "display_data"
    }
   ],
   "source": [
    "x=np.linspace(1,2*10**3,100)\n",
    "y=lambda x: np.exp(olsfit.params[0] + olsfit.params[1]*np.log(x))\n",
    "fig = plt.figure(figsize=(6, 6))\n",
    "ax = fig.gca()\n",
    "ax.scatter(gnf_n.stack().mean()[:-4], gnf_n.stack().std()[:-4])\n",
    "ax.set_ylabel('$\\Delta N$', fontsize=18)\n",
    "ax.set_xscale('log')\n",
    "ax.set_yscale('log')\n",
    "ax.set_xlabel(r'$\\langle N \\rangle$', fontsize=18)\n",
    "ax.tick_params(labelsize=14)\n",
    "#ax2 = plt.twinx(ax)\n",
    "ax.plot(x, y(x), 'r--')\n",
    "ax.legend([r'$\\Delta N \\propto \\langle N \\rangle^{0.79}$'], fontsize=16)\n",
    "#ax2.set_yscale('log')\n",
    "#ax2.set_xscale('linear')"
   ]
  },
  {
   "cell_type": "code",
   "execution_count": 139,
   "metadata": {},
   "outputs": [],
   "source": [
    "import statsmodels.api as sm"
   ]
  },
  {
   "cell_type": "code",
   "execution_count": 257,
   "metadata": {},
   "outputs": [
    {
     "data": {
      "text/plain": [
       "0.7861548299154477"
      ]
     },
     "execution_count": 257,
     "metadata": {},
     "output_type": "execute_result"
    }
   ],
   "source": [
    "olsfit.params[1]"
   ]
  },
  {
   "cell_type": "code",
   "execution_count": 160,
   "metadata": {},
   "outputs": [
    {
     "data": {
      "text/plain": [
       "array([[0.        , 0.38692919],\n",
       "       [0.        , 4.95104417],\n",
       "       [0.        , 6.22766264],\n",
       "       [0.        , 7.0036567 ],\n",
       "       [0.        , 7.56420569],\n",
       "       [0.        , 8.00028993],\n",
       "       [0.        , 8.35835517],\n",
       "       [0.        , 8.66114979]])"
      ]
     },
     "execution_count": 160,
     "metadata": {},
     "output_type": "execute_result"
    }
   ],
   "source": []
  },
  {
   "cell_type": "code",
   "execution_count": 245,
   "metadata": {},
   "outputs": [
    {
     "data": {
      "image/png": "[encoded data removed]",
      "text/plain": [
       "<Figure size 432x288 with 1 Axes>"
      ]
     },
     "metadata": {
      "needs_background": "light"
     },
     "output_type": "display_data"
    }
   ],
   "source": [
    "X = np.log(gnf_n.stack().mean()[:-4].values)\n",
    "y = np.log(gnf_n.stack().std()[:-4].values)\n",
    "plt.figure()\n",
    "plt.plot(X, y)\n",
    "ytheory = lambda x: olsfit.params[0] + olsfit.params[1]*x\n",
    "plt.plot(X, ytheory(X))\n",
    "plt.show()"
   ]
  },
  {
   "cell_type": "code",
   "execution_count": 244,
   "metadata": {},
   "outputs": [
    {
     "data": {
      "text/html": [
       "<table class=\"simpletable\">\n",
       "<caption>Generalized Linear Model Regression Results</caption>\n",
       "<tr>\n",
       "  <th>Dep. Variable:</th>           <td>y</td>        <th>  No. Observations:  </th>  <td>     6</td> \n",
       "</tr>\n",
       "<tr>\n",
       "  <th>Model:</th>                  <td>GLM</td>       <th>  Df Residuals:      </th>  <td>     4</td> \n",
       "</tr>\n",
       "<tr>\n",
       "  <th>Model Family:</th>        <td>Gaussian</td>     <th>  Df Model:          </th>  <td>     1</td> \n",
       "</tr>\n",
       "<tr>\n",
       "  <th>Link Function:</th>       <td>identity</td>     <th>  Scale:             </th> <td>0.012930</td>\n",
       "</tr>\n",
       "<tr>\n",
       "  <th>Method:</th>                <td>IRLS</td>       <th>  Log-Likelihood:    </th> <td>  5.7473</td>\n",
       "</tr>\n",
       "<tr>\n",
       "  <th>Date:</th>            <td>Fri, 06 Mar 2020</td> <th>  Deviance:          </th> <td>0.051721</td>\n",
       "</tr>\n",
       "<tr>\n",
       "  <th>Time:</th>                <td>20:08:29</td>     <th>  Pearson chi2:      </th>  <td>0.0517</td> \n",
       "</tr>\n",
       "<tr>\n",
       "  <th>No. Iterations:</th>          <td>3</td>        <th>                     </th>     <td> </td>   \n",
       "</tr>\n",
       "<tr>\n",
       "  <th>Covariance Type:</th>     <td>nonrobust</td>    <th>                     </th>     <td> </td>   \n",
       "</tr>\n",
       "</table>\n",
       "<table class=\"simpletable\">\n",
       "<tr>\n",
       "    <td></td>       <th>coef</th>     <th>std err</th>      <th>z</th>      <th>P>|z|</th>  <th>[0.025</th>    <th>0.975]</th>  \n",
       "</tr>\n",
       "<tr>\n",
       "  <th>const</th> <td>    1.0639</td> <td>    0.089</td> <td>   11.995</td> <td> 0.000</td> <td>    0.890</td> <td>    1.238</td>\n",
       "</tr>\n",
       "<tr>\n",
       "  <th>x1</th>    <td>    0.7862</td> <td>    0.020</td> <td>   40.104</td> <td> 0.000</td> <td>    0.748</td> <td>    0.825</td>\n",
       "</tr>\n",
       "</table>"
      ],
      "text/plain": [
       "<class 'statsmodels.iolib.summary.Summary'>\n",
       "\"\"\"\n",
       "                 Generalized Linear Model Regression Results                  \n",
       "==============================================================================\n",
       "Dep. Variable:                      y   No. Observations:                    6\n",
       "Model:                            GLM   Df Residuals:                        4\n",
       "Model Family:                Gaussian   Df Model:                            1\n",
       "Link Function:               identity   Scale:                        0.012930\n",
       "Method:                          IRLS   Log-Likelihood:                 5.7473\n",
       "Date:                Fri, 06 Mar 2020   Deviance:                     0.051721\n",
       "Time:                        20:08:29   Pearson chi2:                   0.0517\n",
       "No. Iterations:                     3                                         \n",
       "Covariance Type:            nonrobust                                         \n",
       "==============================================================================\n",
       "                 coef    std err          z      P>|z|      [0.025      0.975]\n",
       "------------------------------------------------------------------------------\n",
       "const          1.0639      0.089     11.995      0.000       0.890       1.238\n",
       "x1             0.7862      0.020     40.104      0.000       0.748       0.825\n",
       "==============================================================================\n",
       "\"\"\""
      ]
     },
     "execution_count": 244,
     "metadata": {},
     "output_type": "execute_result"
    }
   ],
   "source": [
    "X = sm.add_constant(X)\n",
    "olsfit = sm.GLM(y, X).fit()\n",
    "olsfit.summary()"
   ]
  },
  {
   "cell_type": "code",
   "execution_count": null,
   "metadata": {},
   "outputs": [],
   "source": []
  }
 ],
 "metadata": {
  "kernelspec": {
   "display_name": "Python 3",
   "language": "python",
   "name": "python3"
  },
  "language_info": {
   "codemirror_mode": {
    "name": "ipython",
    "version": 3
   },
   "file_extension": ".py",
   "mimetype": "text/x-python",
   "name": "python",
   "nbconvert_exporter": "python",
   "pygments_lexer": "ipython3",
   "version": "3.8.1"
  }
 },
 "nbformat": 4,
 "nbformat_minor": 4
}
